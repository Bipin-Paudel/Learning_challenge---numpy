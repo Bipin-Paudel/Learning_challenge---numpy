{
 "cells": [
  {
   "cell_type": "code",
   "execution_count": null,
   "id": "e38618a7",
   "metadata": {},
   "outputs": [
    {
     "name": "stdout",
     "output_type": "stream",
     "text": [
      "min : 1 0\n",
      "max : 5 4\n",
      "\n",
      " 1\n",
      "\n",
      " 2\n",
      "\n",
      " 3\n",
      "\n",
      " 4\n",
      "\n",
      " 5\n",
      "\n",
      " 6\n",
      "\n",
      " 7\n",
      "\n",
      " 8\n"
     ]
    }
   ],
   "source": [
    "import numpy as np\n",
    "\n",
    "var= np.array([1,2,3,4,5,3,2])\n",
    "print(\"min :\",np.min(var), np.argmin(var)) # for index \n",
    "print(\"max :\",np.max(var), np.argmax(var))\n",
    "\n",
    "\n",
    "arr1 = np.array([[1,2,3,4],[5,6,7,8]])\n",
    "\n",
    "for i in arr1:\n",
    "    for j in i:\n",
    "        print(\"\\n\",j)\n",
    "\n",
    "\n",
    "print(\"using nditer method\")  \n",
    "\n",
    "for i in np.nditer(arr1):\n",
    "    print(i)\n",
    "\n",
    "\n",
    " \n",
    "    \n"
   ]
  },
  {
   "cell_type": "code",
   "execution_count": null,
   "id": "5a048d91",
   "metadata": {},
   "outputs": [
    {
     "name": "stdout",
     "output_type": "stream",
     "text": [
      "var: [1 2 3 4]\n",
      "copy: [1 2 3 4]\n"
     ]
    }
   ],
   "source": [
    "# copy and view in numpy array\n",
    "\n",
    "var= np.array([1,2,3,4])\n",
    "co = var.copy()\n",
    "\n",
    "print(\"var:\", var)\n",
    "print(\"copy:\", co)\n",
    "\n",
    "\n"
   ]
  },
  {
   "cell_type": "code",
   "execution_count": 9,
   "id": "1f6aafe6",
   "metadata": {},
   "outputs": [
    {
     "name": "stdout",
     "output_type": "stream",
     "text": [
      "x [9.  8.  7.  6.5]\n",
      "view : [9.  8.  7.  6.5]\n"
     ]
    }
   ],
   "source": [
    "xi= np.array([9,8,7,6.5])\n",
    "\n",
    "vi = xi.view()\n",
    "print(\"x\", xi)\n",
    "\n",
    "print(\"view :\", vi)"
   ]
  },
  {
   "cell_type": "code",
   "execution_count": 17,
   "id": "c2986c00",
   "metadata": {},
   "outputs": [
    {
     "name": "stdout",
     "output_type": "stream",
     "text": [
      "[1 2 4 5 3]\n"
     ]
    }
   ],
   "source": [
    "# shuffle\n",
    "\n",
    "var = np.array([1,2,3,4,5])\n",
    "np.random.shuffle(var)\n",
    "print(var)\n"
   ]
  },
  {
   "cell_type": "code",
   "execution_count": 20,
   "id": "94a933ee",
   "metadata": {},
   "outputs": [
    {
     "name": "stdout",
     "output_type": "stream",
     "text": [
      "[1 2 3 4 5 6 7 8]\n"
     ]
    }
   ],
   "source": [
    "# Unique\n",
    "\n",
    "var1 = np.array([1,2,3,4,5,6,7, 8 ,7])\n",
    "\n",
    "x = np.unique(var1)\n",
    "print(x)"
   ]
  },
  {
   "cell_type": "code",
   "execution_count": 23,
   "id": "437b3fe0",
   "metadata": {},
   "outputs": [
    {
     "name": "stdout",
     "output_type": "stream",
     "text": [
      "[[1 2 3]\n",
      " [4 5 6]\n",
      " [7 8 9]]\n"
     ]
    }
   ],
   "source": [
    "# resize \n",
    "\n",
    "var2 = np.array([1,2,3,4,5,6,7,8,9])\n",
    "\n",
    "y = np.resize(var2,(3,3))\n",
    "print(y)"
   ]
  }
 ],
 "metadata": {
  "kernelspec": {
   "display_name": "myenv",
   "language": "python",
   "name": "python3"
  },
  "language_info": {
   "codemirror_mode": {
    "name": "ipython",
    "version": 3
   },
   "file_extension": ".py",
   "mimetype": "text/x-python",
   "name": "python",
   "nbconvert_exporter": "python",
   "pygments_lexer": "ipython3",
   "version": "3.13.3"
  }
 },
 "nbformat": 4,
 "nbformat_minor": 5
}
