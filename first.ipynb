{
 "cells": [
  {
   "cell_type": "markdown",
   "id": "b52066ef",
   "metadata": {},
   "source": [
    "#this is a numpy chellange"
   ]
  },
  {
   "cell_type": "code",
   "execution_count": 13,
   "id": "1bde2018",
   "metadata": {},
   "outputs": [],
   "source": [
    "import numpy as np\n"
   ]
  },
  {
   "cell_type": "markdown",
   "id": "2388626f",
   "metadata": {},
   "source": [
    "# creating array from list "
   ]
  },
  {
   "cell_type": "code",
   "execution_count": 14,
   "id": "056fc377",
   "metadata": {},
   "outputs": [
    {
     "name": "stdout",
     "output_type": "stream",
     "text": [
      "1D array:  [1 2 3 4 5]\n",
      "2D array:  [[1 2 3 4]\n",
      " [4 5 6 8]]\n"
     ]
    }
   ],
   "source": [
    "arr_1d = np.array([1,2,3,4,5])\n",
    "print(\"1D array: \", arr_1d)\n",
    "\n",
    "\n",
    "arr_2d = np.array([[1, 2, 3,4], [4, 5, 6,8]])\n",
    "print(\"2D array: \", arr_2d)"
   ]
  },
  {
   "cell_type": "markdown",
   "id": "38522fb5",
   "metadata": {},
   "source": [
    "# list vs numpy array\n"
   ]
  },
  {
   "cell_type": "code",
   "execution_count": 24,
   "id": "ae7bbd23",
   "metadata": {},
   "outputs": [
    {
     "name": "stdout",
     "output_type": "stream",
     "text": [
      "list array multiplication [2, 4, 6, 8, 2, 4, 6, 8]\n",
      "numpy array multiplication [4 6 8]\n"
     ]
    }
   ],
   "source": [
    "list_1 = [2,4,6,8]\n",
    "print(\"list array multiplication\", list_1*2)\n",
    "\n",
    "nump_arr = np.array([2,3,4]) # element wise multiplication\n",
    "print(\"numpy array multiplication\", nump_arr*2)\n",
    "\n"
   ]
  },
  {
   "cell_type": "code",
   "execution_count": 25,
   "id": "2a79f08a",
   "metadata": {},
   "outputs": [
    {
     "name": "stdout",
     "output_type": "stream",
     "text": [
      "creating arrays from zeros: [[0. 0. 0.]\n",
      " [0. 0. 0.]\n",
      " [0. 0. 0.]\n",
      " [0. 0. 0.]]\n",
      "creeating  arrays frome ones [[1. 1.]\n",
      " [1. 1.]\n",
      " [1. 1.]\n",
      " [1. 1.]]\n",
      "creeating  arrays randomly [[0.69123084 0.68092191 0.66429249 0.63959034]\n",
      " [0.29237709 0.15380032 0.22888487 0.86864604]]\n",
      "creeating  arrays randomly [[9 9 9 9]\n",
      " [9 9 9 9]\n",
      " [9 9 9 9]]\n",
      "creeating  arrays sequently [0 3 6 9]\n"
     ]
    }
   ],
   "source": [
    "zeros = np.zeros((4,3))\n",
    "print(\"creating arrays from zeros:\", zeros)\n",
    "\n",
    "ones = np.ones((4,2))\n",
    "print(\"creeating  arrays frome ones\", ones)\n",
    "\n",
    "random = np.random.random((2,4))\n",
    "print(\"creeating  arrays randomly\", random)\n",
    "\n",
    "full = np.full((3,4),9)\n",
    "print(\"creeating  arrays randomly\",full )\n",
    "\n",
    "sequence = np.arange(0,10,3)\n",
    "print(\"creeating  arrays sequently\", sequence)"
   ]
  },
  {
   "cell_type": "markdown",
   "id": "5638a11d",
   "metadata": {},
   "source": [
    "#vector, matrix & tensor"
   ]
  },
  {
   "cell_type": "code",
   "execution_count": 32,
   "id": "c0140e1f",
   "metadata": {},
   "outputs": [
    {
     "name": "stdout",
     "output_type": "stream",
     "text": [
      "vector is  [2 4 7]\n",
      "matrix is is  [[2 4 7]\n",
      " [5 8 9]]\n",
      "tensor is  [[[ 2  4]\n",
      "  [ 3  8]]\n",
      "\n",
      " [[ 5  9]\n",
      "  [ 7 13]]]\n"
     ]
    }
   ],
   "source": [
    "vector = np.array([2,4,7])\n",
    "print(\"vector is \", vector)\n",
    "\n",
    "matrix = np.array([[2,4,7],\n",
    "                   [5,8,9]])\n",
    "print(\"matrix is is \", matrix)\n",
    "\n",
    "tensor = np.array([[[2,4],[3,8]],\n",
    "                    [[5,9],[7,13]]])\n",
    "print(\"tensor is \",tensor)"
   ]
  },
  {
   "cell_type": "markdown",
   "id": "9ba5d489",
   "metadata": {},
   "source": [
    "# array properties\n"
   ]
  },
  {
   "cell_type": "code",
   "execution_count": 33,
   "id": "a72fa0d6",
   "metadata": {},
   "outputs": [
    {
     "name": "stdout",
     "output_type": "stream",
     "text": [
      "shape of array is (2, 3)\n",
      "array dimenssion is  2\n",
      "array size is 6\n",
      "array data type is int64\n"
     ]
    }
   ],
   "source": [
    "arr = np.array([[2,3,7],[3,4,9]])\n",
    "\n",
    "print(\"shape of array is\",arr.shape)\n",
    "print(\"array dimenssion is \", arr.ndim)\n",
    "print(\"array size is\", arr.size)\n",
    "print(\"array data type is\", arr.dtype)\n"
   ]
  },
  {
   "cell_type": "markdown",
   "id": "18b18aa2",
   "metadata": {},
   "source": [
    "# Array Reshapig"
   ]
  },
  {
   "cell_type": "code",
   "execution_count": 40,
   "id": "0521148d",
   "metadata": {},
   "outputs": [
    {
     "name": "stdout",
     "output_type": "stream",
     "text": [
      "\n",
      " original array [ 0  1  2  3  4  5  6  7  8  9 10 11]\n",
      "\n",
      " reshaped  array [[ 0  1  2]\n",
      " [ 3  4  5]\n",
      " [ 6  7  8]\n",
      " [ 9 10 11]]\n",
      "\n",
      " flattend  array [ 0  1  2  3  4  5  6  7  8  9 10 11]\n",
      "\n",
      " raveled  array [ 0  1  2  3  4  5  6  7  8  9 10 11]\n",
      "\n",
      " transposed array is [[ 0  3  6  9]\n",
      " [ 1  4  7 10]\n",
      " [ 2  5  8 11]]\n"
     ]
    }
   ],
   "source": [
    "arr_3 = np.arange(12)\n",
    "\n",
    "print(\"\\n original array\", arr_3)\n",
    "\n",
    "reshaped = arr_3.reshape(4,3)\n",
    "print(\"\\n reshaped  array\", reshaped)\n",
    "\n",
    "flattened = reshaped.flatten()\n",
    "print(\"\\n flattend  array\", flattened)\n",
    "\n",
    "raveled = reshaped.ravel()  # ravel returns view instead copy\n",
    "print(\"\\n raveled  array\", raveled)\n",
    "\n",
    "\n",
    "transpose = reshaped.T\n",
    "print(\"\\n transposed array is\", transpose)"
   ]
  }
 ],
 "metadata": {
  "kernelspec": {
   "display_name": "myenv",
   "language": "python",
   "name": "python3"
  },
  "language_info": {
   "codemirror_mode": {
    "name": "ipython",
    "version": 3
   },
   "file_extension": ".py",
   "mimetype": "text/x-python",
   "name": "python",
   "nbconvert_exporter": "python",
   "pygments_lexer": "ipython3",
   "version": "3.13.3"
  }
 },
 "nbformat": 4,
 "nbformat_minor": 5
}
