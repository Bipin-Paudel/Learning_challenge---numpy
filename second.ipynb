{
 "cells": [
  {
   "cell_type": "markdown",
   "id": "e29c8989",
   "metadata": {},
   "source": [
    "# Numpy array operations"
   ]
  },
  {
   "cell_type": "code",
   "execution_count": 19,
   "id": "71ef7512",
   "metadata": {},
   "outputs": [],
   "source": [
    "import numpy as np"
   ]
  },
  {
   "cell_type": "code",
   "execution_count": 20,
   "id": "764cebc3",
   "metadata": {},
   "outputs": [
    {
     "name": "stdout",
     "output_type": "stream",
     "text": [
      "array basic slicing  [3 4 5 6]\n",
      "array with step  [3 5]\n",
      "negative indexing  6\n"
     ]
    }
   ],
   "source": [
    "arrey = np.array([1,2,3,4,5,6,7,8,9])\n",
    "\n",
    "print(\"array basic slicing \",arrey[2:6])\n",
    "print(\"array with step \",arrey[2:6:2])\n",
    "print(\"negative indexing \",arrey[-4])\n",
    "\n"
   ]
  },
  {
   "cell_type": "code",
   "execution_count": 21,
   "id": "50e1e2b1",
   "metadata": {},
   "outputs": [
    {
     "name": "stdout",
     "output_type": "stream",
     "text": [
      "\n",
      " specific element 12\n",
      "\n",
      " Entire row [5 6 7 8]\n",
      "\n",
      " specific column [ 4  8 12]\n"
     ]
    }
   ],
   "source": [
    "arr = np.array([[1,2,3,4],[5,6,7,8],[9,10,11,12]])\n",
    "print(\"\\n specific element\", arr[2,3])\n",
    "print(\"\\n Entire row\", arr[1])\n",
    "print(\"\\n specific column\", arr[:,3] )\n",
    "\n"
   ]
  },
  {
   "cell_type": "markdown",
   "id": "82ca3aec",
   "metadata": {},
   "source": [
    "# sorting"
   ]
  },
  {
   "cell_type": "code",
   "execution_count": 22,
   "id": "aaa0cad8",
   "metadata": {},
   "outputs": [
    {
     "name": "stdout",
     "output_type": "stream",
     "text": [
      "sorted array is  [1 2 3 4 5 6 7 8 9]\n",
      "\n",
      " sorted 2d array by row  [[1 1]\n",
      " [2 2]\n",
      " [3 3]]\n",
      "\n",
      " sorted 2d array by column  [[1 3]\n",
      " [1 2]\n",
      " [2 3]]\n"
     ]
    }
   ],
   "source": [
    "unsorted = np.array([1,3,2,5,7,9,8,4,6])\n",
    "print(\"sorted array is \",np.sort(unsorted))\n",
    "\n",
    "arr_2dunsorted = np.array([[3,1],[1,2],[2,3]])\n",
    "print(\"\\n sorted 2d array by row \",np.sort(arr_2dunsorted, axis=0))\n",
    "print(\"\\n sorted 2d array by column \",np.sort(arr_2dunsorted, axis=1))"
   ]
  },
  {
   "cell_type": "markdown",
   "id": "fe500818",
   "metadata": {},
   "source": [
    "# filter"
   ]
  },
  {
   "cell_type": "code",
   "execution_count": 23,
   "id": "dcc1ed72",
   "metadata": {},
   "outputs": [
    {
     "name": "stdout",
     "output_type": "stream",
     "text": [
      "even numbers are:  [2 4 6 8]\n"
     ]
    }
   ],
   "source": [
    "numbers = np.array([1,2,7,4,5,6,7,9,8])\n",
    "\n",
    "even = numbers[numbers %2 ==0]\n",
    "print(\"even numbers are: \", even)"
   ]
  },
  {
   "cell_type": "markdown",
   "id": "82649c37",
   "metadata": {},
   "source": [
    "# filters with mask"
   ]
  },
  {
   "cell_type": "code",
   "execution_count": 24,
   "id": "618b3d0c",
   "metadata": {},
   "outputs": [
    {
     "name": "stdout",
     "output_type": "stream",
     "text": [
      "Numbers grater than 5 [7 6 7 9 8]\n"
     ]
    }
   ],
   "source": [
    "mask = numbers > 5\n",
    "\n",
    "print(\"Numbers grater than 5\", numbers[mask])"
   ]
  },
  {
   "cell_type": "markdown",
   "id": "bc99ac79",
   "metadata": {},
   "source": [
    "# Fancy indexing vs np.Where()"
   ]
  },
  {
   "cell_type": "code",
   "execution_count": 25,
   "id": "546d2d82",
   "metadata": {},
   "outputs": [
    {
     "name": "stdout",
     "output_type": "stream",
     "text": [
      "[2 5 1]\n",
      "numbers where [7 5 6 7 9 8]\n"
     ]
    }
   ],
   "source": [
    "indice = [1,4,0]\n",
    "print(numbers[indice])\n",
    "\n",
    "where_result = np.where(numbers>4)\n",
    "print(\"numbers where\", numbers[where_result])"
   ]
  },
  {
   "cell_type": "code",
   "execution_count": 26,
   "id": "bc40cf65",
   "metadata": {},
   "outputs": [
    {
     "name": "stdout",
     "output_type": "stream",
     "text": [
      "[ 1  2 28  4  5  6 28 36 32]\n"
     ]
    }
   ],
   "source": [
    "condition_arr = np.where(numbers>6, numbers*4, numbers)\n",
    "print(condition_arr)"
   ]
  },
  {
   "cell_type": "markdown",
   "id": "b9445125",
   "metadata": {},
   "source": [
    "## Adding & removing Data "
   ]
  },
  {
   "cell_type": "code",
   "execution_count": 27,
   "id": "ae39e84c",
   "metadata": {},
   "outputs": [
    {
     "name": "stdout",
     "output_type": "stream",
     "text": [
      "combination of arr_1 and arr_2 is  [1 2 3 4 5 6 7 8]\n"
     ]
    }
   ],
   "source": [
    "arr_1 = np.array([1,2,3,4])\n",
    "arr_2 = np.array([5,6,7,8])\n",
    "\n",
    "combine = np.concatenate((arr_1, arr_2))\n",
    "print(\"combination of arr_1 and arr_2 is \", combine)"
   ]
  },
  {
   "cell_type": "markdown",
   "id": "87a3f375",
   "metadata": {},
   "source": [
    "## array compatibility"
   ]
  },
  {
   "cell_type": "code",
   "execution_count": 29,
   "id": "e4bea405",
   "metadata": {},
   "outputs": [
    {
     "name": "stdout",
     "output_type": "stream",
     "text": [
      "with new row  [[1 2]\n",
      " [3 4]\n",
      " [5 6]]\n",
      "with new column  [[1 2 7]\n",
      " [3 4 8]]\n"
     ]
    }
   ],
   "source": [
    "original= np.array([[1,2],[3,4]])\n",
    "new_row = np.array([[5,6]])\n",
    "\n",
    "with_new_row = np.vstack((original, new_row)) # np.vstack add rows always\n",
    "print(\"with new row \" ,with_new_row)\n",
    "\n",
    "new_col = np.array([[7], [8]])\n",
    "with_new_col = np.hstack((original, new_col))\n",
    "print(\"with new column \" ,with_new_col)"
   ]
  },
  {
   "cell_type": "code",
   "execution_count": 30,
   "id": "2f77ed0a",
   "metadata": {},
   "outputs": [
    {
     "name": "stdout",
     "output_type": "stream",
     "text": [
      "array after deletion  [1 2 4 5]\n"
     ]
    }
   ],
   "source": [
    "arr = np.array([1,2,3,4,5])\n",
    "\n",
    "deleted = np.delete(arr, 2)\n",
    "print(\"array after deletion \", deleted)\n"
   ]
  },
  {
   "cell_type": "code",
   "execution_count": null,
   "id": "db239845",
   "metadata": {},
   "outputs": [],
   "source": []
  }
 ],
 "metadata": {
  "kernelspec": {
   "display_name": "myenv",
   "language": "python",
   "name": "python3"
  },
  "language_info": {
   "codemirror_mode": {
    "name": "ipython",
    "version": 3
   },
   "file_extension": ".py",
   "mimetype": "text/x-python",
   "name": "python",
   "nbconvert_exporter": "python",
   "pygments_lexer": "ipython3",
   "version": "3.13.3"
  }
 },
 "nbformat": 4,
 "nbformat_minor": 5
}
